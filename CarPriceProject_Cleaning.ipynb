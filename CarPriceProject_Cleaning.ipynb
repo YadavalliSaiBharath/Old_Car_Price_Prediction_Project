{
 "cells": [
  {
   "cell_type": "code",
   "execution_count": 1,
   "id": "163e4f31-4862-439c-b107-d00aaaa93a59",
   "metadata": {},
   "outputs": [],
   "source": [
    "import pandas as pd\n",
    "import numpy as np\n",
    "import matplotlib.pyplot as plt\n",
    "import seaborn as sns"
   ]
  },
  {
   "cell_type": "code",
   "execution_count": 3,
   "id": "fbc92327-862f-46e6-92d3-f8a6b4b42c23",
   "metadata": {},
   "outputs": [
    {
     "data": {
      "text/html": [
       "<div>\n",
       "<style scoped>\n",
       "    .dataframe tbody tr th:only-of-type {\n",
       "        vertical-align: middle;\n",
       "    }\n",
       "\n",
       "    .dataframe tbody tr th {\n",
       "        vertical-align: top;\n",
       "    }\n",
       "\n",
       "    .dataframe thead th {\n",
       "        text-align: right;\n",
       "    }\n",
       "</style>\n",
       "<table border=\"1\" class=\"dataframe\">\n",
       "  <thead>\n",
       "    <tr style=\"text-align: right;\">\n",
       "      <th></th>\n",
       "      <th>name</th>\n",
       "      <th>year</th>\n",
       "      <th>km_driven</th>\n",
       "      <th>fuel</th>\n",
       "      <th>seller_type</th>\n",
       "      <th>transmission</th>\n",
       "      <th>owner</th>\n",
       "      <th>mileage(km/ltr/kg)</th>\n",
       "      <th>engine</th>\n",
       "      <th>max_power</th>\n",
       "      <th>seats</th>\n",
       "      <th>selling_price</th>\n",
       "    </tr>\n",
       "  </thead>\n",
       "  <tbody>\n",
       "    <tr>\n",
       "      <th>0</th>\n",
       "      <td>Maruti Swift Dzire VDI</td>\n",
       "      <td>2014</td>\n",
       "      <td>145500</td>\n",
       "      <td>Diesel</td>\n",
       "      <td>Individual</td>\n",
       "      <td>Manual</td>\n",
       "      <td>First Owner</td>\n",
       "      <td>23.40</td>\n",
       "      <td>1248.0</td>\n",
       "      <td>74</td>\n",
       "      <td>5.0</td>\n",
       "      <td>450000</td>\n",
       "    </tr>\n",
       "    <tr>\n",
       "      <th>1</th>\n",
       "      <td>Skoda Rapid 1.5 TDI Ambition</td>\n",
       "      <td>2014</td>\n",
       "      <td>120000</td>\n",
       "      <td>Diesel</td>\n",
       "      <td>Individual</td>\n",
       "      <td>Manual</td>\n",
       "      <td>Second Owner</td>\n",
       "      <td>21.14</td>\n",
       "      <td>1498.0</td>\n",
       "      <td>103.52</td>\n",
       "      <td>5.0</td>\n",
       "      <td>370000</td>\n",
       "    </tr>\n",
       "    <tr>\n",
       "      <th>2</th>\n",
       "      <td>Honda City 2017-2020 EXi</td>\n",
       "      <td>2006</td>\n",
       "      <td>140000</td>\n",
       "      <td>Petrol</td>\n",
       "      <td>Individual</td>\n",
       "      <td>Manual</td>\n",
       "      <td>Third Owner</td>\n",
       "      <td>17.70</td>\n",
       "      <td>1497.0</td>\n",
       "      <td>78</td>\n",
       "      <td>5.0</td>\n",
       "      <td>158000</td>\n",
       "    </tr>\n",
       "    <tr>\n",
       "      <th>3</th>\n",
       "      <td>Hyundai i20 Sportz Diesel</td>\n",
       "      <td>2010</td>\n",
       "      <td>127000</td>\n",
       "      <td>Diesel</td>\n",
       "      <td>Individual</td>\n",
       "      <td>Manual</td>\n",
       "      <td>First Owner</td>\n",
       "      <td>23.00</td>\n",
       "      <td>1396.0</td>\n",
       "      <td>90</td>\n",
       "      <td>5.0</td>\n",
       "      <td>225000</td>\n",
       "    </tr>\n",
       "    <tr>\n",
       "      <th>4</th>\n",
       "      <td>Maruti Swift VXI BSIII</td>\n",
       "      <td>2007</td>\n",
       "      <td>120000</td>\n",
       "      <td>Petrol</td>\n",
       "      <td>Individual</td>\n",
       "      <td>Manual</td>\n",
       "      <td>First Owner</td>\n",
       "      <td>16.10</td>\n",
       "      <td>1298.0</td>\n",
       "      <td>88.2</td>\n",
       "      <td>5.0</td>\n",
       "      <td>130000</td>\n",
       "    </tr>\n",
       "  </tbody>\n",
       "</table>\n",
       "</div>"
      ],
      "text/plain": [
       "                           name  year  km_driven    fuel seller_type  \\\n",
       "0        Maruti Swift Dzire VDI  2014     145500  Diesel  Individual   \n",
       "1  Skoda Rapid 1.5 TDI Ambition  2014     120000  Diesel  Individual   \n",
       "2      Honda City 2017-2020 EXi  2006     140000  Petrol  Individual   \n",
       "3     Hyundai i20 Sportz Diesel  2010     127000  Diesel  Individual   \n",
       "4        Maruti Swift VXI BSIII  2007     120000  Petrol  Individual   \n",
       "\n",
       "  transmission         owner  mileage(km/ltr/kg)  engine max_power  seats  \\\n",
       "0       Manual   First Owner               23.40  1248.0        74    5.0   \n",
       "1       Manual  Second Owner               21.14  1498.0    103.52    5.0   \n",
       "2       Manual   Third Owner               17.70  1497.0        78    5.0   \n",
       "3       Manual   First Owner               23.00  1396.0        90    5.0   \n",
       "4       Manual   First Owner               16.10  1298.0      88.2    5.0   \n",
       "\n",
       "   selling_price  \n",
       "0         450000  \n",
       "1         370000  \n",
       "2         158000  \n",
       "3         225000  \n",
       "4         130000  "
      ]
     },
     "execution_count": 3,
     "metadata": {},
     "output_type": "execute_result"
    }
   ],
   "source": [
    "df = pd.read_csv(\"C:\\\\Users\\\\Lenovo\\\\OneDrive\\\\Documents\\\\cardekho1.csv\")\n",
    "df.head()"
   ]
  },
  {
   "cell_type": "code",
   "execution_count": 5,
   "id": "28a4fb39-e571-428e-a1f1-0c6d2b5222f8",
   "metadata": {},
   "outputs": [
    {
     "data": {
      "text/plain": [
       "name                    0\n",
       "year                    0\n",
       "km_driven               0\n",
       "fuel                    0\n",
       "seller_type             0\n",
       "transmission            0\n",
       "owner                   0\n",
       "mileage(km/ltr/kg)    221\n",
       "engine                221\n",
       "max_power             215\n",
       "seats                 221\n",
       "selling_price           0\n",
       "dtype: int64"
      ]
     },
     "execution_count": 5,
     "metadata": {},
     "output_type": "execute_result"
    }
   ],
   "source": [
    "df.isnull().sum()"
   ]
  },
  {
   "cell_type": "code",
   "execution_count": 9,
   "id": "aa2f9458-2862-4e92-b2f6-0c342a08de9c",
   "metadata": {},
   "outputs": [
    {
     "name": "stdout",
     "output_type": "stream",
     "text": [
      "<class 'pandas.core.frame.DataFrame'>\n",
      "RangeIndex: 8128 entries, 0 to 8127\n",
      "Data columns (total 12 columns):\n",
      " #   Column              Non-Null Count  Dtype  \n",
      "---  ------              --------------  -----  \n",
      " 0   name                8128 non-null   object \n",
      " 1   year                8128 non-null   int64  \n",
      " 2   km_driven           8128 non-null   int64  \n",
      " 3   fuel                8128 non-null   object \n",
      " 4   seller_type         8128 non-null   object \n",
      " 5   transmission        8128 non-null   object \n",
      " 6   owner               8128 non-null   object \n",
      " 7   mileage(km/ltr/kg)  7907 non-null   float64\n",
      " 8   engine              7907 non-null   float64\n",
      " 9   max_power           7913 non-null   object \n",
      " 10  seats               7907 non-null   float64\n",
      " 11  selling_price       8128 non-null   int64  \n",
      "dtypes: float64(3), int64(3), object(6)\n",
      "memory usage: 762.1+ KB\n"
     ]
    }
   ],
   "source": [
    "df.info()"
   ]
  },
  {
   "cell_type": "code",
   "execution_count": 11,
   "id": "89183480-9224-4e1c-b8b0-0bd814d83606",
   "metadata": {},
   "outputs": [
    {
     "data": {
      "text/plain": [
       "(8128, 12)"
      ]
     },
     "execution_count": 11,
     "metadata": {},
     "output_type": "execute_result"
    }
   ],
   "source": [
    "df.shape"
   ]
  },
  {
   "cell_type": "code",
   "execution_count": 13,
   "id": "ee756143-823f-4a89-9ae1-b187aa958b75",
   "metadata": {},
   "outputs": [
    {
     "data": {
      "text/html": [
       "<div>\n",
       "<style scoped>\n",
       "    .dataframe tbody tr th:only-of-type {\n",
       "        vertical-align: middle;\n",
       "    }\n",
       "\n",
       "    .dataframe tbody tr th {\n",
       "        vertical-align: top;\n",
       "    }\n",
       "\n",
       "    .dataframe thead th {\n",
       "        text-align: right;\n",
       "    }\n",
       "</style>\n",
       "<table border=\"1\" class=\"dataframe\">\n",
       "  <thead>\n",
       "    <tr style=\"text-align: right;\">\n",
       "      <th></th>\n",
       "      <th>year</th>\n",
       "      <th>km_driven</th>\n",
       "      <th>mileage(km/ltr/kg)</th>\n",
       "      <th>engine</th>\n",
       "      <th>seats</th>\n",
       "      <th>selling_price</th>\n",
       "    </tr>\n",
       "  </thead>\n",
       "  <tbody>\n",
       "    <tr>\n",
       "      <th>count</th>\n",
       "      <td>8128.000000</td>\n",
       "      <td>8.128000e+03</td>\n",
       "      <td>7907.000000</td>\n",
       "      <td>7907.000000</td>\n",
       "      <td>7907.000000</td>\n",
       "      <td>8.128000e+03</td>\n",
       "    </tr>\n",
       "    <tr>\n",
       "      <th>mean</th>\n",
       "      <td>2013.804011</td>\n",
       "      <td>6.981951e+04</td>\n",
       "      <td>19.418783</td>\n",
       "      <td>1458.625016</td>\n",
       "      <td>5.416719</td>\n",
       "      <td>6.382718e+05</td>\n",
       "    </tr>\n",
       "    <tr>\n",
       "      <th>std</th>\n",
       "      <td>4.044249</td>\n",
       "      <td>5.655055e+04</td>\n",
       "      <td>4.037145</td>\n",
       "      <td>503.916303</td>\n",
       "      <td>0.959588</td>\n",
       "      <td>8.062534e+05</td>\n",
       "    </tr>\n",
       "    <tr>\n",
       "      <th>min</th>\n",
       "      <td>1983.000000</td>\n",
       "      <td>1.000000e+00</td>\n",
       "      <td>0.000000</td>\n",
       "      <td>624.000000</td>\n",
       "      <td>2.000000</td>\n",
       "      <td>2.999900e+04</td>\n",
       "    </tr>\n",
       "    <tr>\n",
       "      <th>25%</th>\n",
       "      <td>2011.000000</td>\n",
       "      <td>3.500000e+04</td>\n",
       "      <td>16.780000</td>\n",
       "      <td>1197.000000</td>\n",
       "      <td>5.000000</td>\n",
       "      <td>2.549990e+05</td>\n",
       "    </tr>\n",
       "    <tr>\n",
       "      <th>50%</th>\n",
       "      <td>2015.000000</td>\n",
       "      <td>6.000000e+04</td>\n",
       "      <td>19.300000</td>\n",
       "      <td>1248.000000</td>\n",
       "      <td>5.000000</td>\n",
       "      <td>4.500000e+05</td>\n",
       "    </tr>\n",
       "    <tr>\n",
       "      <th>75%</th>\n",
       "      <td>2017.000000</td>\n",
       "      <td>9.800000e+04</td>\n",
       "      <td>22.320000</td>\n",
       "      <td>1582.000000</td>\n",
       "      <td>5.000000</td>\n",
       "      <td>6.750000e+05</td>\n",
       "    </tr>\n",
       "    <tr>\n",
       "      <th>max</th>\n",
       "      <td>2020.000000</td>\n",
       "      <td>2.360457e+06</td>\n",
       "      <td>42.000000</td>\n",
       "      <td>3604.000000</td>\n",
       "      <td>14.000000</td>\n",
       "      <td>1.000000e+07</td>\n",
       "    </tr>\n",
       "  </tbody>\n",
       "</table>\n",
       "</div>"
      ],
      "text/plain": [
       "              year     km_driven  mileage(km/ltr/kg)       engine  \\\n",
       "count  8128.000000  8.128000e+03         7907.000000  7907.000000   \n",
       "mean   2013.804011  6.981951e+04           19.418783  1458.625016   \n",
       "std       4.044249  5.655055e+04            4.037145   503.916303   \n",
       "min    1983.000000  1.000000e+00            0.000000   624.000000   \n",
       "25%    2011.000000  3.500000e+04           16.780000  1197.000000   \n",
       "50%    2015.000000  6.000000e+04           19.300000  1248.000000   \n",
       "75%    2017.000000  9.800000e+04           22.320000  1582.000000   \n",
       "max    2020.000000  2.360457e+06           42.000000  3604.000000   \n",
       "\n",
       "             seats  selling_price  \n",
       "count  7907.000000   8.128000e+03  \n",
       "mean      5.416719   6.382718e+05  \n",
       "std       0.959588   8.062534e+05  \n",
       "min       2.000000   2.999900e+04  \n",
       "25%       5.000000   2.549990e+05  \n",
       "50%       5.000000   4.500000e+05  \n",
       "75%       5.000000   6.750000e+05  \n",
       "max      14.000000   1.000000e+07  "
      ]
     },
     "execution_count": 13,
     "metadata": {},
     "output_type": "execute_result"
    }
   ],
   "source": [
    "df.describe()"
   ]
  },
  {
   "cell_type": "code",
   "execution_count": 7,
   "id": "fb2caa58-76b9-4a61-af5f-55d74a79c4a9",
   "metadata": {},
   "outputs": [
    {
     "name": "stdout",
     "output_type": "stream",
     "text": [
      "name                  0.000000\n",
      "year                  0.000000\n",
      "km_driven             0.000000\n",
      "fuel                  0.000000\n",
      "seller_type           0.000000\n",
      "transmission          0.000000\n",
      "owner                 0.000000\n",
      "mileage(km/ltr/kg)    2.718996\n",
      "engine                2.718996\n",
      "max_power             2.645177\n",
      "seats                 2.718996\n",
      "selling_price         0.000000\n",
      "dtype: float64\n"
     ]
    }
   ],
   "source": [
    "null_precentage = df.isnull().mean()*100\n",
    "print(null_precentage)"
   ]
  },
  {
   "cell_type": "code",
   "execution_count": 15,
   "id": "be39f39e-d642-4ddd-9416-429fb29d479c",
   "metadata": {},
   "outputs": [],
   "source": [
    "df[\"mileage(km/ltr/kg)\"] = df[\"mileage(km/ltr/kg)\"].fillna(df[\"mileage(km/ltr/kg)\"].mean())"
   ]
  },
  {
   "cell_type": "code",
   "execution_count": 17,
   "id": "1c4294a6-8de8-4c61-a7ca-b3716bdec738",
   "metadata": {},
   "outputs": [],
   "source": [
    "df[\"engine\"] = df[\"engine\"].fillna(df[\"engine\"].mean())"
   ]
  },
  {
   "cell_type": "code",
   "execution_count": 19,
   "id": "063194a1-6eed-4b19-85cb-223c4141794d",
   "metadata": {},
   "outputs": [],
   "source": [
    "df[\"seats\"] = df[\"seats\"].fillna(df[\"seats\"].mode()[0])"
   ]
  },
  {
   "cell_type": "code",
   "execution_count": 23,
   "id": "67499b70-e501-4a0d-bfe4-f290619b2e46",
   "metadata": {},
   "outputs": [
    {
     "data": {
      "text/plain": [
       "name                    0\n",
       "year                    0\n",
       "km_driven               0\n",
       "fuel                    0\n",
       "seller_type             0\n",
       "transmission            0\n",
       "owner                   0\n",
       "mileage(km/ltr/kg)      0\n",
       "engine                  0\n",
       "max_power             215\n",
       "seats                   0\n",
       "selling_price           0\n",
       "dtype: int64"
      ]
     },
     "execution_count": 23,
     "metadata": {},
     "output_type": "execute_result"
    }
   ],
   "source": [
    "df.isnull().sum()"
   ]
  },
  {
   "cell_type": "code",
   "execution_count": 25,
   "id": "5dc5d5c7-56c7-4c2b-8ca8-0c323af63235",
   "metadata": {},
   "outputs": [
    {
     "name": "stdout",
     "output_type": "stream",
     "text": [
      "<class 'pandas.core.frame.DataFrame'>\n",
      "RangeIndex: 8128 entries, 0 to 8127\n",
      "Data columns (total 12 columns):\n",
      " #   Column              Non-Null Count  Dtype  \n",
      "---  ------              --------------  -----  \n",
      " 0   name                8128 non-null   object \n",
      " 1   year                8128 non-null   int64  \n",
      " 2   km_driven           8128 non-null   int64  \n",
      " 3   fuel                8128 non-null   object \n",
      " 4   seller_type         8128 non-null   object \n",
      " 5   transmission        8128 non-null   object \n",
      " 6   owner               8128 non-null   object \n",
      " 7   mileage(km/ltr/kg)  8128 non-null   float64\n",
      " 8   engine              8128 non-null   float64\n",
      " 9   max_power           7913 non-null   object \n",
      " 10  seats               8128 non-null   float64\n",
      " 11  selling_price       8128 non-null   int64  \n",
      "dtypes: float64(3), int64(3), object(6)\n",
      "memory usage: 762.1+ KB\n"
     ]
    }
   ],
   "source": [
    "df.info()"
   ]
  },
  {
   "cell_type": "code",
   "execution_count": 27,
   "id": "4e98a1cd-9468-4f5b-bb30-393eb9190134",
   "metadata": {},
   "outputs": [
    {
     "data": {
      "text/plain": [
       "array(['74', '103.52', '78', '90', '88.2', '81.86', '57.5', '37', '67.1',\n",
       "       '68.1', '108.45', '60', '73.9', nan, '67', '82', '88.5', '46.3',\n",
       "       '88.73', '64.1', '98.6', '88.8', '83.81', '83.1', '47.3', '73.8',\n",
       "       '34.2', '35', '81.83', '40.3', '121.3', '138.03', '160.77',\n",
       "       '117.3', '116.3', '83.14', '67.05', '168.5', '100', '120.7',\n",
       "       '98.63', '175.56', '103.25', '171.5', '100.6', '174.33', '187.74',\n",
       "       '170', '78.9', '88.76', '86.8', '108.495', '108.62', '93.7',\n",
       "       '103.6', '98.59', '189', '67.04', '68.05', '58.2', '82.85', '81.8',\n",
       "       '73', '120', '94.68', '160', '65', '155', '69.01', '126.32',\n",
       "       '138.1', '83.8', '126.2', '98.96', '62.1', '86.7', '188', '214.56',\n",
       "       '177', '280', '148.31', '254.79', '190', '177.46', '204', '141',\n",
       "       '117.6', '241.4', '282', '150', '147.5', '108.5', '103.5', '183',\n",
       "       '181.04', '157.7', '164.7', '91.1', '400', '68', '75', '85.8',\n",
       "       '87.2', '53', '118', '103.2', '83', '84', '58.16', '147.94',\n",
       "       '74.02', '53.3', '80', '88.7', '97.7', '121.36', '162', '140',\n",
       "       '94', '100.57', '82.9', '83.11', '70', '153.86', '121', '126.3',\n",
       "       '73.97', '171', '69', '99.6', '102', '105', '63', '79.4', '97.9',\n",
       "       '63.1', '66.1', '110', '174.5', '53.26', '73.75', '67.06', '64.08',\n",
       "       '37.5', '189.3', '158.8', '61.7', '55.2', '71.01', '73.74',\n",
       "       '147.9', '71', '77', '121.4', '113.4', '47', '130', '57.6', '138',\n",
       "       '52.8', '53.64', '53.5', '76.8', '82.4', '113.42', '76', '84.8',\n",
       "       '0', '56.3', '218', '112', '92', '105.5', '169', '95', '72.4',\n",
       "       '115', '152', '91.2', '156', '74.9', '62', '105.3', '73.94', '85',\n",
       "       '118.3', '72', '147.51', '58', '64', '126.24', '76.9', '194.3',\n",
       "       '99.23', '89.84', '123.7', '118.35', '99', '241', '136', '261.4',\n",
       "       '104.68', '37.48', '104', '63.12', '91.7', '102.5', '177.6', '45',\n",
       "       '123.37', '147.8', '184', '84.48', '68.07', '74.96', '167.6',\n",
       "       '152.87', '112.2', '83.83', '197', '110.4', '104.55', '103',\n",
       "       '103.3', '66', '108.6', '165', '163.7', '116.9', '94.93', '127',\n",
       "       '198.5', '179.5', '120.69', '121.31', '138.08', '187.7', '80.8',\n",
       "       '86.79', '93.87', '116.6', '143', '92.7', '88', '58.33', '78.8',\n",
       "       '64.4', '125', '139.01', '254.8', '181', '258', '55.23', '270.9',\n",
       "       '265', '157.75', '101', '186', '187.4', '224', '64.9', '148',\n",
       "       '35.5', '89.75', '32.8', '91.72', '106', '98.97', '66.6', '86',\n",
       "       '65.3', '98.82', '198.25', '38', '142', '132', '174.57', '178',\n",
       "       '163.2', '203.2', '177.5', '175', '57', '80.84', '68.4', '167.67',\n",
       "       '170.63', '52', '149.5', '48.21', ' ', '201.1', '100.5', '144',\n",
       "       '194.4', '168.7', '104.5', '103.26', '116.4', '98.79', '80.9',\n",
       "       '58.3', '272', '235', '167.62', '170.3', '139.46', '158', '110.5',\n",
       "       '82.5', '141.1', '38.4', '197.2', '161', '194', '122.4', '134.1',\n",
       "       '60.2', '134', '203', '135.1'], dtype=object)"
      ]
     },
     "execution_count": 27,
     "metadata": {},
     "output_type": "execute_result"
    }
   ],
   "source": [
    "df[\"max_power\"].unique()"
   ]
  },
  {
   "cell_type": "code",
   "execution_count": 29,
   "id": "8ad49f39-bf0b-4554-b45f-2ba8d7d59a92",
   "metadata": {},
   "outputs": [],
   "source": [
    "df['max_power'] = pd.to_numeric(df['max_power'].str.replace(r'[^0-9.]', '', regex=True), errors='coerce')"
   ]
  },
  {
   "cell_type": "code",
   "execution_count": 33,
   "id": "3d157251-05d8-4552-b786-463da815a641",
   "metadata": {},
   "outputs": [],
   "source": [
    "df[\"max_power\"] = df[\"max_power\"].fillna(df[\"max_power\"].mean())"
   ]
  },
  {
   "cell_type": "code",
   "execution_count": 35,
   "id": "b784587d-38a3-4ba2-932c-66f3c115e046",
   "metadata": {},
   "outputs": [
    {
     "data": {
      "text/plain": [
       "name                  0\n",
       "year                  0\n",
       "km_driven             0\n",
       "fuel                  0\n",
       "seller_type           0\n",
       "transmission          0\n",
       "owner                 0\n",
       "mileage(km/ltr/kg)    0\n",
       "engine                0\n",
       "max_power             0\n",
       "seats                 0\n",
       "selling_price         0\n",
       "dtype: int64"
      ]
     },
     "execution_count": 35,
     "metadata": {},
     "output_type": "execute_result"
    }
   ],
   "source": [
    "df.isnull().sum()"
   ]
  },
  {
   "cell_type": "code",
   "execution_count": 37,
   "id": "14f6d2b9-799f-4135-9c6b-53b0ef50e37a",
   "metadata": {},
   "outputs": [],
   "source": [
    "df.drop(columns = [\"name\"],inplace = True)"
   ]
  },
  {
   "cell_type": "code",
   "execution_count": 39,
   "id": "143d7ae6-8459-48c3-b083-6bbece03eecd",
   "metadata": {},
   "outputs": [
    {
     "data": {
      "text/html": [
       "<div>\n",
       "<style scoped>\n",
       "    .dataframe tbody tr th:only-of-type {\n",
       "        vertical-align: middle;\n",
       "    }\n",
       "\n",
       "    .dataframe tbody tr th {\n",
       "        vertical-align: top;\n",
       "    }\n",
       "\n",
       "    .dataframe thead th {\n",
       "        text-align: right;\n",
       "    }\n",
       "</style>\n",
       "<table border=\"1\" class=\"dataframe\">\n",
       "  <thead>\n",
       "    <tr style=\"text-align: right;\">\n",
       "      <th></th>\n",
       "      <th>year</th>\n",
       "      <th>km_driven</th>\n",
       "      <th>fuel</th>\n",
       "      <th>seller_type</th>\n",
       "      <th>transmission</th>\n",
       "      <th>owner</th>\n",
       "      <th>mileage(km/ltr/kg)</th>\n",
       "      <th>engine</th>\n",
       "      <th>max_power</th>\n",
       "      <th>seats</th>\n",
       "      <th>selling_price</th>\n",
       "    </tr>\n",
       "  </thead>\n",
       "  <tbody>\n",
       "    <tr>\n",
       "      <th>0</th>\n",
       "      <td>2014</td>\n",
       "      <td>145500</td>\n",
       "      <td>Diesel</td>\n",
       "      <td>Individual</td>\n",
       "      <td>Manual</td>\n",
       "      <td>First Owner</td>\n",
       "      <td>23.40</td>\n",
       "      <td>1248.0</td>\n",
       "      <td>74.00</td>\n",
       "      <td>5.0</td>\n",
       "      <td>450000</td>\n",
       "    </tr>\n",
       "    <tr>\n",
       "      <th>1</th>\n",
       "      <td>2014</td>\n",
       "      <td>120000</td>\n",
       "      <td>Diesel</td>\n",
       "      <td>Individual</td>\n",
       "      <td>Manual</td>\n",
       "      <td>Second Owner</td>\n",
       "      <td>21.14</td>\n",
       "      <td>1498.0</td>\n",
       "      <td>103.52</td>\n",
       "      <td>5.0</td>\n",
       "      <td>370000</td>\n",
       "    </tr>\n",
       "    <tr>\n",
       "      <th>2</th>\n",
       "      <td>2006</td>\n",
       "      <td>140000</td>\n",
       "      <td>Petrol</td>\n",
       "      <td>Individual</td>\n",
       "      <td>Manual</td>\n",
       "      <td>Third Owner</td>\n",
       "      <td>17.70</td>\n",
       "      <td>1497.0</td>\n",
       "      <td>78.00</td>\n",
       "      <td>5.0</td>\n",
       "      <td>158000</td>\n",
       "    </tr>\n",
       "    <tr>\n",
       "      <th>3</th>\n",
       "      <td>2010</td>\n",
       "      <td>127000</td>\n",
       "      <td>Diesel</td>\n",
       "      <td>Individual</td>\n",
       "      <td>Manual</td>\n",
       "      <td>First Owner</td>\n",
       "      <td>23.00</td>\n",
       "      <td>1396.0</td>\n",
       "      <td>90.00</td>\n",
       "      <td>5.0</td>\n",
       "      <td>225000</td>\n",
       "    </tr>\n",
       "    <tr>\n",
       "      <th>4</th>\n",
       "      <td>2007</td>\n",
       "      <td>120000</td>\n",
       "      <td>Petrol</td>\n",
       "      <td>Individual</td>\n",
       "      <td>Manual</td>\n",
       "      <td>First Owner</td>\n",
       "      <td>16.10</td>\n",
       "      <td>1298.0</td>\n",
       "      <td>88.20</td>\n",
       "      <td>5.0</td>\n",
       "      <td>130000</td>\n",
       "    </tr>\n",
       "  </tbody>\n",
       "</table>\n",
       "</div>"
      ],
      "text/plain": [
       "   year  km_driven    fuel seller_type transmission         owner  \\\n",
       "0  2014     145500  Diesel  Individual       Manual   First Owner   \n",
       "1  2014     120000  Diesel  Individual       Manual  Second Owner   \n",
       "2  2006     140000  Petrol  Individual       Manual   Third Owner   \n",
       "3  2010     127000  Diesel  Individual       Manual   First Owner   \n",
       "4  2007     120000  Petrol  Individual       Manual   First Owner   \n",
       "\n",
       "   mileage(km/ltr/kg)  engine  max_power  seats  selling_price  \n",
       "0               23.40  1248.0      74.00    5.0         450000  \n",
       "1               21.14  1498.0     103.52    5.0         370000  \n",
       "2               17.70  1497.0      78.00    5.0         158000  \n",
       "3               23.00  1396.0      90.00    5.0         225000  \n",
       "4               16.10  1298.0      88.20    5.0         130000  "
      ]
     },
     "execution_count": 39,
     "metadata": {},
     "output_type": "execute_result"
    }
   ],
   "source": [
    "df.head()"
   ]
  },
  {
   "cell_type": "code",
   "execution_count": 41,
   "id": "a190eae2-7d4a-4c31-ae79-60becf898565",
   "metadata": {},
   "outputs": [],
   "source": [
    "df.to_csv(\"C:\\\\Users\\\\Lenovo\\\\OneDrive\\\\Documents\\\\car_project_cleaned.csv\",index=False)"
   ]
  },
  {
   "cell_type": "code",
   "execution_count": null,
   "id": "85093a26-94fc-451b-870e-ba1d393c587e",
   "metadata": {},
   "outputs": [],
   "source": []
  }
 ],
 "metadata": {
  "kernelspec": {
   "display_name": "Python 3 (ipykernel)",
   "language": "python",
   "name": "python3"
  },
  "language_info": {
   "codemirror_mode": {
    "name": "ipython",
    "version": 3
   },
   "file_extension": ".py",
   "mimetype": "text/x-python",
   "name": "python",
   "nbconvert_exporter": "python",
   "pygments_lexer": "ipython3",
   "version": "3.12.4"
  }
 },
 "nbformat": 4,
 "nbformat_minor": 5
}
